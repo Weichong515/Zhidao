{
 "cells": [
  {
   "cell_type": "markdown",
   "metadata": {},
   "source": [
    "<h2>Word2Vec Sample Trial</h2>"
   ]
  },
  {
   "cell_type": "code",
   "execution_count": 19,
   "metadata": {},
   "outputs": [
    {
     "name": "stdout",
     "output_type": "stream",
     "text": [
      "Word2Vec(vocab=14, size=100, alpha=0.025)\n",
      "['this', 'is', 'the', 'first', 'sentence', 'for', 'word2vec', 'second', 'yet', 'another', 'one', 'more', 'and', 'final']\n",
      "[-1.0464453e-03 -3.8299516e-03  3.0353814e-03  7.4749312e-04\n",
      "  2.5605873e-04 -3.0526072e-03 -2.5937341e-03  4.1235057e-03\n",
      " -4.9765897e-03 -4.0411353e-03 -1.6567631e-03 -1.7157359e-03\n",
      " -2.4264026e-03  1.3052699e-03  1.5266486e-03  6.5189088e-04\n",
      "  1.2347469e-03 -1.9866463e-03 -3.1259712e-03  4.4405716e-04\n",
      "  2.3024683e-03 -2.5464295e-05 -3.2371415e-03  2.4435848e-03\n",
      "  2.1601089e-03 -1.1601901e-03  1.1320676e-03 -3.5867216e-03\n",
      "  1.7047070e-03 -6.5234781e-07 -4.7820583e-03  2.6714278e-03\n",
      "  1.6685267e-03  7.3130970e-04  1.5402843e-04  1.0652822e-03\n",
      " -4.2364155e-03 -1.6660531e-03 -4.8911311e-03  1.4902786e-03\n",
      "  3.5902362e-03  3.8336744e-03 -1.2768771e-03 -3.7783466e-03\n",
      " -4.0252744e-03 -1.8443032e-03 -2.0842114e-04 -3.4724665e-03\n",
      "  1.4808961e-03  7.9371547e-04  2.3187262e-03 -2.0365603e-03\n",
      "  1.4311466e-03 -2.5828104e-03  3.8611889e-03 -3.1055501e-03\n",
      " -1.8195048e-03  4.3570753e-03  1.7106405e-03 -3.2211051e-03\n",
      " -1.6149312e-03 -1.8426696e-03  3.4956227e-03 -2.1221225e-04\n",
      "  4.4020829e-03 -2.1686631e-03 -2.5225882e-03  2.4434335e-03\n",
      " -4.9651265e-03 -2.8976237e-03 -3.0726225e-03 -3.6987439e-03\n",
      "  3.8461641e-03 -2.0781171e-03  1.2838574e-03 -2.7383147e-03\n",
      "  2.8357503e-03  2.8277673e-03  3.1680360e-03 -1.0722558e-03\n",
      "  4.8547047e-03  3.7291353e-03  2.3784416e-04  2.8701620e-03\n",
      "  1.5699441e-04  2.8252772e-03 -2.3336203e-03  9.2647685e-04\n",
      " -1.9776688e-03 -1.9736458e-03  3.4639882e-03 -1.2642479e-03\n",
      "  4.3701320e-03  2.3464467e-03 -3.0248100e-04 -4.6478822e-03\n",
      "  5.5236253e-04 -1.7943484e-03 -4.2577176e-03  4.1869758e-03]\n",
      "Word2Vec(vocab=14, size=100, alpha=0.025)\n"
     ]
    },
    {
     "name": "stderr",
     "output_type": "stream",
     "text": [
      "/anaconda3/lib/python3.7/site-packages/ipykernel_launcher.py:16: DeprecationWarning: Call to deprecated `__getitem__` (Method will be removed in 4.0.0, use self.wv.__getitem__() instead).\n",
      "  app.launch_new_instance()\n"
     ]
    }
   ],
   "source": [
    "import gensim\n",
    "from gensim.models import Word2Vec# define training data\n",
    "sentences = [['this', 'is', 'the', 'first', 'sentence', 'for', 'word2vec'],\n",
    "            ['this', 'is', 'the', 'second', 'sentence'],\n",
    "            ['yet', 'another', 'sentence'],\n",
    "            ['one', 'more', 'sentence'],\n",
    "            ['and', 'the', 'final', 'sentence']]\n",
    "# train model\n",
    "model = Word2Vec(sentences, min_count=1)\n",
    "# summarize the loaded model\n",
    "print(model)\n",
    "# summarize vocabulary\n",
    "words = list(model.wv.vocab)\n",
    "print(words)\n",
    "# access vector for one word\n",
    "print(model['sentence'])\n",
    "# save model\n",
    "model.save('model.bin')\n",
    "# load model\n",
    "new_model = Word2Vec.load('model.bin')\n",
    "print(new_model)"
   ]
  },
  {
   "cell_type": "code",
   "execution_count": 20,
   "metadata": {},
   "outputs": [
    {
     "data": {
      "image/png": "[encoded data removed]",
      "text/plain": [
       "<Figure size 432x288 with 1 Axes>"
      ]
     },
     "metadata": {
      "needs_background": "light"
     },
     "output_type": "display_data"
    }
   ],
   "source": [
    "from gensim.models import Word2Vec\n",
    "from sklearn.decomposition import PCA\n",
    "from matplotlib import pyplot\n",
    "\n",
    "pca = PCA(n_components=2)\n",
    "result = pca.fit_transform(X)\n",
    "# create a scatter plot of the projection\n",
    "pyplot.scatter(result[:, 0], result[:, 1])\n",
    "words = list(model.wv.vocab)\n",
    "for i, word in enumerate(words):\n",
    "    pyplot.annotate(word, xy=(result[i, 0], result[i, 1]))\n",
    "pyplot.show()"
   ]
  },
  {
   "cell_type": "code",
   "execution_count": null,
   "metadata": {},
   "outputs": [],
   "source": [
    "# "
   ]
  }
 ],
 "metadata": {
  "kernelspec": {
   "display_name": "Python 3",
   "language": "python",
   "name": "python3"
  },
  "language_info": {
   "codemirror_mode": {
    "name": "ipython",
    "version": 3
   },
   "file_extension": ".py",
   "mimetype": "text/x-python",
   "name": "python",
   "nbconvert_exporter": "python",
   "pygments_lexer": "ipython3",
   "version": "3.7.2"
  }
 },
 "nbformat": 4,
 "nbformat_minor": 2
}
